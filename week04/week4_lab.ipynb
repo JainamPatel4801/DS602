{
 "cells": [
  {
   "cell_type": "markdown",
   "id": "318de7cb",
   "metadata": {
    "id": "318de7cb"
   },
   "source": [
    "# Week4 - Lab\n",
    "\n",
    "Take a look at these toy datasets. Perform the following operations\n",
    "* Train-test split\n",
    "* Train a linear regression model\n",
    "* Evaluate/create residual plots\n",
    "* Explain findings"
   ]
  },
  {
   "cell_type": "markdown",
   "id": "sCGqnwuJmrsR",
   "metadata": {
    "id": "sCGqnwuJmrsR"
   },
   "source": [
    "# This LAb is in Collaboration of Ayushi Bhujade and Jainam Maheshkumar Patel"
   ]
  },
  {
   "cell_type": "code",
   "execution_count": 1,
   "id": "4089dbd4",
   "metadata": {
    "id": "4089dbd4"
   },
   "outputs": [],
   "source": [
    "import pandas as pd\n",
    "import numpy as np\n",
    "import matplotlib.pyplot as plt\n",
    "import random\n",
    "\n",
    "data1 = pd.read_csv('https://raw.githubusercontent.com/msaricaumbc/DS_data/master/ds602/regression/lab4_1.csv', index_col=0)\n",
    "data2 = pd.read_csv('https://raw.githubusercontent.com/msaricaumbc/DS_data/master/ds602/regression/lab4_2.csv', index_col=0)"
   ]
  },
  {
   "cell_type": "markdown",
   "id": "-IpbGc_kjXc8",
   "metadata": {
    "id": "-IpbGc_kjXc8"
   },
   "source": [
    "#Data 1"
   ]
  },
  {
   "cell_type": "code",
   "execution_count": 2,
   "id": "f7cda82e",
   "metadata": {
    "colab": {
     "base_uri": "https://localhost:8080/",
     "height": 206
    },
    "id": "f7cda82e",
    "outputId": "0745c2ab-34fb-4155-a2f3-e0979f97c389"
   },
   "outputs": [
    {
     "data": {
      "text/html": [
       "<div>\n",
       "<style scoped>\n",
       "    .dataframe tbody tr th:only-of-type {\n",
       "        vertical-align: middle;\n",
       "    }\n",
       "\n",
       "    .dataframe tbody tr th {\n",
       "        vertical-align: top;\n",
       "    }\n",
       "\n",
       "    .dataframe thead th {\n",
       "        text-align: right;\n",
       "    }\n",
       "</style>\n",
       "<table border=\"1\" class=\"dataframe\">\n",
       "  <thead>\n",
       "    <tr style=\"text-align: right;\">\n",
       "      <th></th>\n",
       "      <th>X</th>\n",
       "      <th>y</th>\n",
       "    </tr>\n",
       "  </thead>\n",
       "  <tbody>\n",
       "    <tr>\n",
       "      <th>0</th>\n",
       "      <td>50</td>\n",
       "      <td>147</td>\n",
       "    </tr>\n",
       "    <tr>\n",
       "      <th>1</th>\n",
       "      <td>82</td>\n",
       "      <td>246</td>\n",
       "    </tr>\n",
       "    <tr>\n",
       "      <th>2</th>\n",
       "      <td>66</td>\n",
       "      <td>207</td>\n",
       "    </tr>\n",
       "    <tr>\n",
       "      <th>3</th>\n",
       "      <td>35</td>\n",
       "      <td>105</td>\n",
       "    </tr>\n",
       "    <tr>\n",
       "      <th>4</th>\n",
       "      <td>81</td>\n",
       "      <td>240</td>\n",
       "    </tr>\n",
       "  </tbody>\n",
       "</table>\n",
       "</div>"
      ],
      "text/plain": [
       "    X    y\n",
       "0  50  147\n",
       "1  82  246\n",
       "2  66  207\n",
       "3  35  105\n",
       "4  81  240"
      ]
     },
     "execution_count": 2,
     "metadata": {},
     "output_type": "execute_result"
    }
   ],
   "source": [
    "data1.head()"
   ]
  },
  {
   "cell_type": "code",
   "execution_count": 3,
   "id": "4bd3c979",
   "metadata": {
    "colab": {
     "base_uri": "https://localhost:8080/"
    },
    "id": "4bd3c979",
    "outputId": "5f35bc8c-a3b6-40c2-a013-b5629240553a"
   },
   "outputs": [
    {
     "name": "stdout",
     "output_type": "stream",
     "text": [
      "total no. of samples:  (100, 2)\n",
      "no. of train samples:  (80, 1)\n",
      "no. of train samples:  (20, 1)\n",
      "no. of y train samples:  (80, 1)\n",
      "no. of y train samples:  (20, 1)\n"
     ]
    }
   ],
   "source": [
    "#1 train test split\n",
    "\n",
    "from sklearn.model_selection import train_test_split\n",
    "x_data1= data1[[\"X\"]]\n",
    "y_data1= data1[[\"y\"]]\n",
    "x_train1, x_test1, y_train1, y_test1 =  train_test_split (x_data1, y_data1, test_size=0.2)\n",
    "\n",
    "print ('total no. of samples: ', data1.shape)\n",
    "print ('no. of train samples: ', x_train1.shape)\n",
    "print ('no. of train samples: ', x_test1.shape)\n",
    "print ('no. of y train samples: ', y_train1.shape)\n",
    "print ('no. of y train samples: ', y_test1.shape)"
   ]
  },
  {
   "cell_type": "code",
   "execution_count": 4,
   "id": "43dbb018",
   "metadata": {
    "colab": {
     "base_uri": "https://localhost:8080/",
     "height": 432
    },
    "id": "43dbb018",
    "outputId": "6cd22a95-6771-4c40-9a98-0f3224e4580e"
   },
   "outputs": [
    {
     "data": {
      "image/png": "[encoded data removed]",
      "text/plain": [
       "<Figure size 432x288 with 1 Axes>"
      ]
     },
     "metadata": {
      "needs_background": "light"
     },
     "output_type": "display_data"
    }
   ],
   "source": [
    "# train data distriution\n",
    "plt.scatter(x_train1, y_train1, color='b')\n",
    "plt.xlabel=(\"X\")\n",
    "plt.ylabel=(\"y\")\n",
    "plt.show()"
   ]
  },
  {
   "cell_type": "code",
   "execution_count": 5,
   "id": "D-ajBKqpci76",
   "metadata": {
    "colab": {
     "base_uri": "https://localhost:8080/"
    },
    "id": "D-ajBKqpci76",
    "outputId": "9ed47423-9766-4957-e05e-60e1a13230d9"
   },
   "outputs": [
    {
     "name": "stdout",
     "output_type": "stream",
     "text": [
      "coefficients:  [[2.98115319]]\n",
      "intercept:  [-0.85286388]\n"
     ]
    }
   ],
   "source": [
    "#2. Train a linear regression model\n",
    "from sklearn  import linear_model\n",
    "lre1=linear_model.LinearRegression()\n",
    "lre1.fit(x_train1, y_train1)\n",
    "\n",
    "print(\"coefficients: \", lre1.coef_)\n",
    "print(\"intercept: \", lre1.intercept_)"
   ]
  },
  {
   "cell_type": "code",
   "execution_count": 6,
   "id": "s55h71-Dc6d5",
   "metadata": {
    "colab": {
     "base_uri": "https://localhost:8080/",
     "height": 430
    },
    "id": "s55h71-Dc6d5",
    "outputId": "b5817f10-0696-4eff-b3f6-0f1e3770e36e"
   },
   "outputs": [
    {
     "data": {
      "image/png": "[encoded data removed]",
      "text/plain": [
       "<Figure size 432x288 with 1 Axes>"
      ]
     },
     "metadata": {
      "needs_background": "light"
     },
     "output_type": "display_data"
    }
   ],
   "source": [
    "plt.scatter(x_train1, y_train1, color='b')\n",
    "plt.plot(x_train1, lre1.coef_[0][0]* x_train1+lre1.intercept_, color='r')\n",
    "plt.xlabel=(\"X\")\n",
    "plt.ylabel=(\"y\")\n",
    "plt.show()\n"
   ]
  },
  {
   "cell_type": "code",
   "execution_count": 7,
   "id": "3DXaLoBTd_nL",
   "metadata": {
    "colab": {
     "base_uri": "https://localhost:8080/"
    },
    "id": "3DXaLoBTd_nL",
    "outputId": "8025d91f-54ce-42b2-9cfa-ccb1c69aec1b"
   },
   "outputs": [
    {
     "name": "stdout",
     "output_type": "stream",
     "text": [
      "Mean squared error (MSE), 67.70\n",
      "R2 - score: 0.99\n"
     ]
    }
   ],
   "source": [
    "#3. evaluate\n",
    "from sklearn.metrics import r2_score\n",
    "\n",
    "yhat1=lre1.predict(x_test1)\n",
    "print(\"Mean squared error (MSE), %.2f\" %np.mean((yhat1-y_test1)**2))\n",
    "print(\"R2 - score: %.2f\" %r2_score(y_test1,yhat1))"
   ]
  },
  {
   "cell_type": "code",
   "execution_count": 8,
   "id": "FbFc-p1HexnD",
   "metadata": {
    "colab": {
     "base_uri": "https://localhost:8080/",
     "height": 430
    },
    "id": "FbFc-p1HexnD",
    "outputId": "75db94f4-57ea-4f4b-b727-bca0359a9409"
   },
   "outputs": [
    {
     "data": {
      "image/png": "[encoded data removed]",
      "text/plain": [
       "<Figure size 432x288 with 1 Axes>"
      ]
     },
     "metadata": {
      "needs_background": "light"
     },
     "output_type": "display_data"
    }
   ],
   "source": [
    "#plotting actual and predicted\n",
    "\n",
    "plt.scatter(x_test1, y_test1, color='b')\n",
    "plt.scatter(x_test1, yhat1, color='r')\n",
    "plt.plot(x_test1, lre1.coef_[0][0]* x_test1+lre1.intercept_, color='g')\n",
    "plt.xlabel=(\"X\")\n",
    "plt.ylabel=(\"y\")\n",
    "plt.show()"
   ]
  },
  {
   "cell_type": "code",
   "execution_count": 9,
   "id": "7p0zmqdzh3d0",
   "metadata": {
    "colab": {
     "base_uri": "https://localhost:8080/"
    },
    "id": "7p0zmqdzh3d0",
    "outputId": "94bbf7ba-26ae-4006-b41a-4289d49081b7"
   },
   "outputs": [
    {
     "name": "stdout",
     "output_type": "stream",
     "text": [
      "1. The model is linear fit with coeffecient:  2.9811531903270545 and intercept:  -0.8528638823844403\n",
      "2. The model performs well with r2 score:  0.9871411948023433 on a split of 20% testing datset\n"
     ]
    }
   ],
   "source": [
    "# 4. Explain the findings\n",
    "print(\"1. The model is linear fit with coeffecient: \",lre1.coef_[0][0],  \"and intercept: \",lre1.intercept_[0])\n",
    "print(\"2. The model performs well with r2 score: \", r2_score(y_test1,yhat1), \"on a split of 20% testing datset\")"
   ]
  },
  {
   "cell_type": "markdown",
   "id": "lP4uXs7ijZxD",
   "metadata": {
    "id": "lP4uXs7ijZxD"
   },
   "source": [
    "#Data 2"
   ]
  },
  {
   "cell_type": "code",
   "execution_count": 10,
   "id": "Tqz65_RBhfaX",
   "metadata": {
    "colab": {
     "base_uri": "https://localhost:8080/"
    },
    "id": "Tqz65_RBhfaX",
    "outputId": "6fe4a78e-9229-4405-d768-85e887e2dff1"
   },
   "outputs": [
    {
     "data": {
      "text/plain": [
       "A    51\n",
       "B    49\n",
       "Name: X2, dtype: int64"
      ]
     },
     "execution_count": 10,
     "metadata": {},
     "output_type": "execute_result"
    }
   ],
   "source": [
    "data2.head()\n",
    "data2[\"X2\"].value_counts()"
   ]
  },
  {
   "cell_type": "code",
   "execution_count": 11,
   "id": "0dI3hZ5-k_ns",
   "metadata": {
    "id": "0dI3hZ5-k_ns"
   },
   "outputs": [],
   "source": [
    "#getting dummies for X2\n",
    "dummies= pd.get_dummies(data2[\"X2\"])\n"
   ]
  },
  {
   "cell_type": "code",
   "execution_count": 12,
   "id": "061sPwTslVwa",
   "metadata": {
    "colab": {
     "base_uri": "https://localhost:8080/",
     "height": 206
    },
    "id": "061sPwTslVwa",
    "outputId": "3d1dab26-c6b0-4c88-924b-117fb464a363"
   },
   "outputs": [
    {
     "data": {
      "text/html": [
       "<div>\n",
       "<style scoped>\n",
       "    .dataframe tbody tr th:only-of-type {\n",
       "        vertical-align: middle;\n",
       "    }\n",
       "\n",
       "    .dataframe tbody tr th {\n",
       "        vertical-align: top;\n",
       "    }\n",
       "\n",
       "    .dataframe thead th {\n",
       "        text-align: right;\n",
       "    }\n",
       "</style>\n",
       "<table border=\"1\" class=\"dataframe\">\n",
       "  <thead>\n",
       "    <tr style=\"text-align: right;\">\n",
       "      <th></th>\n",
       "      <th>X1</th>\n",
       "      <th>X2</th>\n",
       "      <th>y</th>\n",
       "      <th>A</th>\n",
       "      <th>B</th>\n",
       "    </tr>\n",
       "  </thead>\n",
       "  <tbody>\n",
       "    <tr>\n",
       "      <th>0</th>\n",
       "      <td>50</td>\n",
       "      <td>B</td>\n",
       "      <td>2510</td>\n",
       "      <td>0</td>\n",
       "      <td>1</td>\n",
       "    </tr>\n",
       "    <tr>\n",
       "      <th>1</th>\n",
       "      <td>82</td>\n",
       "      <td>B</td>\n",
       "      <td>6738</td>\n",
       "      <td>0</td>\n",
       "      <td>1</td>\n",
       "    </tr>\n",
       "    <tr>\n",
       "      <th>2</th>\n",
       "      <td>66</td>\n",
       "      <td>B</td>\n",
       "      <td>4355</td>\n",
       "      <td>0</td>\n",
       "      <td>1</td>\n",
       "    </tr>\n",
       "    <tr>\n",
       "      <th>3</th>\n",
       "      <td>35</td>\n",
       "      <td>A</td>\n",
       "      <td>2225</td>\n",
       "      <td>1</td>\n",
       "      <td>0</td>\n",
       "    </tr>\n",
       "    <tr>\n",
       "      <th>4</th>\n",
       "      <td>81</td>\n",
       "      <td>A</td>\n",
       "      <td>7560</td>\n",
       "      <td>1</td>\n",
       "      <td>0</td>\n",
       "    </tr>\n",
       "  </tbody>\n",
       "</table>\n",
       "</div>"
      ],
      "text/plain": [
       "   X1 X2     y  A  B\n",
       "0  50  B  2510  0  1\n",
       "1  82  B  6738  0  1\n",
       "2  66  B  4355  0  1\n",
       "3  35  A  2225  1  0\n",
       "4  81  A  7560  1  0"
      ]
     },
     "execution_count": 12,
     "metadata": {},
     "output_type": "execute_result"
    }
   ],
   "source": [
    "data2= data2.join(dummies)\n",
    "data2.head()"
   ]
  },
  {
   "cell_type": "code",
   "execution_count": 13,
   "id": "_-QrH63ojlMl",
   "metadata": {
    "colab": {
     "base_uri": "https://localhost:8080/"
    },
    "id": "_-QrH63ojlMl",
    "outputId": "2401c5c3-f6e2-4703-b058-52769f866908"
   },
   "outputs": [
    {
     "name": "stdout",
     "output_type": "stream",
     "text": [
      "total no. of samples:  (100, 5)\n",
      "no. of train samples:  (80, 3)\n",
      "no. of train samples:  (20, 3)\n",
      "no. of y train samples:  (80, 1)\n",
      "no. of y train samples:  (20, 1)\n"
     ]
    }
   ],
   "source": [
    "#1 train test split\n",
    "\n",
    "from sklearn.model_selection import train_test_split\n",
    "x_data2= data2.drop([\"y\",\"X2\"], axis=1)\n",
    "y_data2= data2[[\"y\"]]\n",
    "x_train2, x_test2, y_train2, y_test2 =  train_test_split (x_data2, y_data2, test_size=0.2)\n",
    "\n",
    "print ('total no. of samples: ', data2.shape)\n",
    "print ('no. of train samples: ', x_train2.shape)\n",
    "print ('no. of train samples: ', x_test2.shape)\n",
    "print ('no. of y train samples: ', y_train2.shape)\n",
    "print ('no. of y train samples: ', y_test2.shape)\n"
   ]
  },
  {
   "cell_type": "code",
   "execution_count": 14,
   "id": "9ezdyWhij576",
   "metadata": {
    "colab": {
     "base_uri": "https://localhost:8080/"
    },
    "id": "9ezdyWhij576",
    "outputId": "0f20776e-582e-47d5-90b8-fdde64d21965"
   },
   "outputs": [
    {
     "name": "stdout",
     "output_type": "stream",
     "text": [
      "coefficients:  [[  95.18788228  628.46494188 -628.46494188]]\n",
      "intercept:  [-1067.61573627]\n"
     ]
    }
   ],
   "source": [
    "#2. Train a linear regression model\n",
    "from sklearn  import linear_model\n",
    "lre2=linear_model.LinearRegression()\n",
    "lre2.fit(x_train2, y_train2)\n",
    "\n",
    "print(\"coefficients: \", lre2.coef_)\n",
    "print(\"intercept: \", lre2.intercept_)"
   ]
  },
  {
   "cell_type": "code",
   "execution_count": 15,
   "id": "XGSSyKrBkEhB",
   "metadata": {
    "colab": {
     "base_uri": "https://localhost:8080/"
    },
    "id": "XGSSyKrBkEhB",
    "outputId": "e15863af-c042-4dd7-8c91-abd889406ea6"
   },
   "outputs": [
    {
     "name": "stdout",
     "output_type": "stream",
     "text": [
      "Mean squared error (MSE), 473533.69\n",
      "R2 - score: 0.89\n"
     ]
    }
   ],
   "source": [
    "#3. evaluate\n",
    "from sklearn.metrics import r2_score\n",
    "\n",
    "yhat2=lre2.predict(x_test2)\n",
    "print(\"Mean squared error (MSE), %.2f\" %np.mean((yhat2-y_test2)**2))\n",
    "print(\"R2 - score: %.2f\" %r2_score(y_test2,yhat2))"
   ]
  },
  {
   "cell_type": "code",
   "execution_count": 16,
   "id": "vxNTNImtl-Si",
   "metadata": {
    "colab": {
     "base_uri": "https://localhost:8080/"
    },
    "id": "vxNTNImtl-Si",
    "outputId": "ec129bbf-7a8e-4a68-d135-b2c2ba04d3da"
   },
   "outputs": [
    {
     "name": "stdout",
     "output_type": "stream",
     "text": [
      "1. The model is multi-linear fit with coeffecient:  [[  95.18788228  628.46494188 -628.46494188]] and intercept:  [-1067.61573627]\n",
      "2. The model performs well with r2 score:  0.8949486040303384 on a split of 20% testing datset\n"
     ]
    }
   ],
   "source": [
    "# 4. Explain the findings\n",
    "print(\"1. The model is multi-linear fit with coeffecient: \",lre2.coef_,  \"and intercept: \",lre2.intercept_)\n",
    "print(\"2. The model performs well with r2 score: \", r2_score(y_test2,yhat2), \"on a split of 20% testing datset\")"
   ]
  },
  {
   "cell_type": "code",
   "execution_count": null,
   "id": "UoU8gkQzl0fL",
   "metadata": {
    "id": "UoU8gkQzl0fL"
   },
   "outputs": [],
   "source": []
  }
 ],
 "metadata": {
  "colab": {
   "provenance": []
  },
  "kernelspec": {
   "display_name": "Python 3 (ipykernel)",
   "language": "python",
   "name": "python3"
  },
  "language_info": {
   "codemirror_mode": {
    "name": "ipython",
    "version": 3
   },
   "file_extension": ".py",
   "mimetype": "text/x-python",
   "name": "python",
   "nbconvert_exporter": "python",
   "pygments_lexer": "ipython3",
   "version": "3.11.4"
  },
  "toc": {
   "base_numbering": 1,
   "nav_menu": {},
   "number_sections": false,
   "sideBar": true,
   "skip_h1_title": false,
   "title_cell": "Table of Contents",
   "title_sidebar": "Contents",
   "toc_cell": false,
   "toc_position": {},
   "toc_section_display": true,
   "toc_window_display": false
  }
 },
 "nbformat": 4,
 "nbformat_minor": 5
}
