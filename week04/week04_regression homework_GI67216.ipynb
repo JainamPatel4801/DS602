{
 "cells": [
  {
   "cell_type": "markdown",
   "metadata": {},
   "source": [
    "# Week4 - Homework_GI67216\n",
    "\n",
    "- Execute the below code, then answer the numbered questions.\n",
    "\n",
    "\n",
    "\n",
    "### study reference ↴\n",
    "https://www.w3schools.com/python/ <br>\n",
    "https://scikit-learn.org/stable/getting_started/"
   ]
  },
  {
   "cell_type": "code",
   "execution_count": 12,
   "metadata": {},
   "outputs": [],
   "source": [
    "import matplotlib.pyplot as plt\n",
    "from sklearn.pipeline import Pipeline\n",
    "from sklearn.impute import SimpleImputer\n",
    "from sklearn.preprocessing import StandardScaler\n",
    "from sklearn.pipeline import Pipeline\n",
    "from sklearn.impute import SimpleImputer\n",
    "from sklearn.preprocessing import OneHotEncoder\n",
    "import numpy as np\n",
    "from sklearn.linear_model import LinearRegression\n",
    "from sklearn.pipeline import Pipeline\n",
    "from sklearn.model_selection import train_test_split\n",
    "from sklearn.linear_model import Ridge\n",
    "from sklearn.compose import ColumnTransformer\n",
    "\n"
   ]
  },
  {
   "cell_type": "code",
   "execution_count": 13,
   "metadata": {},
   "outputs": [
    {
     "name": "stdout",
     "output_type": "stream",
     "text": [
      "<class 'pandas.core.frame.DataFrame'>\n",
      "RangeIndex: 9055 entries, 0 to 9054\n",
      "Data columns (total 7 columns):\n",
      " #   Column         Non-Null Count  Dtype  \n",
      "---  ------         --------------  -----  \n",
      " 0   make           8164 non-null   object \n",
      " 1   transmission   8106 non-null   object \n",
      " 2   state          8152 non-null   object \n",
      " 3   condition      8173 non-null   float64\n",
      " 4   odometer       8178 non-null   float64\n",
      " 5   auction_value  8107 non-null   float64\n",
      " 6   selling_price  9055 non-null   float64\n",
      "dtypes: float64(4), object(3)\n",
      "memory usage: 495.3+ KB\n"
     ]
    }
   ],
   "source": [
    "import pandas as pd\n",
    "\n",
    "df = pd.read_csv('https://raw.githubusercontent.com/msaricaumbc/DS_data/master/ds602/regression/car-reg-data.csv')\n",
    "df.info()"
   ]
  },
  {
   "cell_type": "code",
   "execution_count": 14,
   "metadata": {},
   "outputs": [
    {
     "name": "stdout",
     "output_type": "stream",
     "text": [
      "Records in training data: 7,244\n",
      "Records in test data: 1,811\n",
      "\n",
      "Features:\n",
      "make\n",
      "transmission\n",
      "state\n",
      "condition\n",
      "odometer\n",
      "auction_value\n"
     ]
    }
   ],
   "source": [
    "from sklearn.model_selection import train_test_split\n",
    "features = [x for x in df.columns if x != 'selling_price']\n",
    "\n",
    "X = df[features]\n",
    "y = df['selling_price']\n",
    "\n",
    "X_train, X_test, y_train, y_test = train_test_split(X, y, test_size=0.2, random_state=100)\n",
    "\n",
    "print(f'Records in training data: {X_train.shape[0]:,}')\n",
    "print(f'Records in test data: {X_test.shape[0]:,}')\n",
    "print('\\nFeatures:')\n",
    "print(*X_train.columns, sep='\\n')"
   ]
  },
  {
   "cell_type": "code",
   "execution_count": 15,
   "metadata": {},
   "outputs": [
    {
     "data": {
      "text/html": [
       "<div>\n",
       "<style scoped>\n",
       "    .dataframe tbody tr th:only-of-type {\n",
       "        vertical-align: middle;\n",
       "    }\n",
       "\n",
       "    .dataframe tbody tr th {\n",
       "        vertical-align: top;\n",
       "    }\n",
       "\n",
       "    .dataframe thead th {\n",
       "        text-align: right;\n",
       "    }\n",
       "</style>\n",
       "<table border=\"1\" class=\"dataframe\">\n",
       "  <thead>\n",
       "    <tr style=\"text-align: right;\">\n",
       "      <th></th>\n",
       "      <th>make</th>\n",
       "      <th>transmission</th>\n",
       "      <th>state</th>\n",
       "      <th>condition</th>\n",
       "      <th>odometer</th>\n",
       "      <th>auction_value</th>\n",
       "      <th>selling_price</th>\n",
       "    </tr>\n",
       "  </thead>\n",
       "  <tbody>\n",
       "    <tr>\n",
       "      <th>0</th>\n",
       "      <td>nissan</td>\n",
       "      <td>automatic</td>\n",
       "      <td>md</td>\n",
       "      <td>4.8</td>\n",
       "      <td>NaN</td>\n",
       "      <td>14350.0</td>\n",
       "      <td>13600.0</td>\n",
       "    </tr>\n",
       "    <tr>\n",
       "      <th>1</th>\n",
       "      <td>ford</td>\n",
       "      <td>automatic</td>\n",
       "      <td>mo</td>\n",
       "      <td>3.7</td>\n",
       "      <td>29398.0</td>\n",
       "      <td>17600.0</td>\n",
       "      <td>17100.0</td>\n",
       "    </tr>\n",
       "    <tr>\n",
       "      <th>2</th>\n",
       "      <td>ford</td>\n",
       "      <td>automatic</td>\n",
       "      <td>fl</td>\n",
       "      <td>3.2</td>\n",
       "      <td>32180.0</td>\n",
       "      <td>19100.0</td>\n",
       "      <td>17600.0</td>\n",
       "    </tr>\n",
       "    <tr>\n",
       "      <th>3</th>\n",
       "      <td>nissan</td>\n",
       "      <td>automatic</td>\n",
       "      <td>ca</td>\n",
       "      <td>NaN</td>\n",
       "      <td>30798.0</td>\n",
       "      <td>11950.0</td>\n",
       "      <td>10700.0</td>\n",
       "    </tr>\n",
       "    <tr>\n",
       "      <th>4</th>\n",
       "      <td>ford</td>\n",
       "      <td>automatic</td>\n",
       "      <td>nj</td>\n",
       "      <td>2.8</td>\n",
       "      <td>29526.0</td>\n",
       "      <td>28000.0</td>\n",
       "      <td>26100.0</td>\n",
       "    </tr>\n",
       "  </tbody>\n",
       "</table>\n",
       "</div>"
      ],
      "text/plain": [
       "     make transmission state  condition  odometer  auction_value  \\\n",
       "0  nissan    automatic    md        4.8       NaN        14350.0   \n",
       "1    ford    automatic    mo        3.7   29398.0        17600.0   \n",
       "2    ford    automatic    fl        3.2   32180.0        19100.0   \n",
       "3  nissan    automatic    ca        NaN   30798.0        11950.0   \n",
       "4    ford    automatic    nj        2.8   29526.0        28000.0   \n",
       "\n",
       "   selling_price  \n",
       "0        13600.0  \n",
       "1        17100.0  \n",
       "2        17600.0  \n",
       "3        10700.0  \n",
       "4        26100.0  "
      ]
     },
     "execution_count": 15,
     "metadata": {},
     "output_type": "execute_result"
    }
   ],
   "source": [
    "df.head()"
   ]
  },
  {
   "cell_type": "markdown",
   "metadata": {},
   "source": [
    "## Question 1: Split the features into two lists, one for the numerical features and another for the categorical features."
   ]
  },
  {
   "cell_type": "code",
   "execution_count": 16,
   "metadata": {},
   "outputs": [
    {
     "name": "stdout",
     "output_type": "stream",
     "text": [
      "Numeric Cols : ['condition', 'odometer', 'auction_value', 'selling_price']\n",
      "Categorical Cols : ['make', 'transmission', 'state']\n"
     ]
    },
    {
     "data": {
      "text/plain": [
       "(      condition  odometer  auction_value  selling_price\n",
       " 0           4.8       NaN        14350.0        13600.0\n",
       " 1           3.7   29398.0        17600.0        17100.0\n",
       " 2           3.2   32180.0        19100.0        17600.0\n",
       " 3           NaN   30798.0        11950.0        10700.0\n",
       " 4           2.8   29526.0        28000.0        26100.0\n",
       " ...         ...       ...            ...            ...\n",
       " 9050        4.2   41186.0            NaN        11600.0\n",
       " 9051        NaN   38810.0        16250.0        17300.0\n",
       " 9052        4.7    4551.0        12500.0        13800.0\n",
       " 9053        4.6   33114.0        21800.0        27000.0\n",
       " 9054        3.7   23776.0        28800.0        29800.0\n",
       " \n",
       " [9055 rows x 4 columns],\n",
       "         make transmission state\n",
       " 0     nissan    automatic    md\n",
       " 1       ford    automatic    mo\n",
       " 2       ford    automatic    fl\n",
       " 3     nissan    automatic    ca\n",
       " 4       ford    automatic    nj\n",
       " ...      ...          ...   ...\n",
       " 9050     NaN    automatic    il\n",
       " 9051    ford    automatic    fl\n",
       " 9052  nissan          NaN    ga\n",
       " 9053    ford    automatic    il\n",
       " 9054    ford    automatic    ga\n",
       " \n",
       " [9055 rows x 3 columns])"
      ]
     },
     "execution_count": 16,
     "metadata": {},
     "output_type": "execute_result"
    }
   ],
   "source": [
    "# insert code here\n",
    "\n",
    "numeric_cols = df.select_dtypes(include=['number']).columns.tolist()\n",
    "categorical_cols = df.select_dtypes(exclude=['number']).columns.tolist()\n",
    "\n",
    "\n",
    "print(\"Numeric Cols :\",numeric_cols)\n",
    "print(\"Categorical Cols :\",categorical_cols)\n",
    "\n",
    "\n",
    "numeric_df = df[numeric_cols]\n",
    "cat_df = df[categorical_cols]\n",
    "numeric_df,cat_df"
   ]
  },
  {
   "cell_type": "markdown",
   "metadata": {},
   "source": [
    "## Question 2: Using the numerical variables, create a pipeline that replaces the missing values with the median and then standardizes the values using a standard scaler."
   ]
  },
  {
   "cell_type": "code",
   "execution_count": 6,
   "metadata": {},
   "outputs": [
    {
     "name": "stdout",
     "output_type": "stream",
     "text": [
      "[[ 1.33305878 -0.18533584 -0.19118532 -0.28259296]\n",
      " [-0.08100654 -0.41098549  0.2490203   0.15990885]\n",
      " [-0.72376351 -0.31410936  0.45219212  0.2231234 ]\n",
      " ...\n",
      " [ 1.20450738 -1.27621957 -0.44176391 -0.25730714]\n",
      " [ 1.07595599 -0.28158517  0.81790141  1.41155684]\n",
      " [-0.08100654 -0.60675746  1.76603659  1.76555829]]\n"
     ]
    }
   ],
   "source": [
    "# insert code here\n",
    "\n",
    "# I have Define the numeric pipeline here....\n",
    "numeric_pipeline = Pipeline(steps=[\n",
    "    ('imputer', SimpleImputer(strategy='median')),\n",
    "    ('scaler', StandardScaler())\n",
    "])\n",
    "\n",
    "\n",
    "# I have Applied the pipeline to the numeric_df....\n",
    "transformed_numeric_data = numeric_pipeline.fit_transform(numeric_df)\n",
    "\n",
    "print(transformed_numeric_data)\n"
   ]
  },
  {
   "cell_type": "markdown",
   "metadata": {},
   "source": [
    "#\n",
    "# Question 3: Using the categorical variables, create a pipeline that replaces the missing values with the most frequent and then use one-hot encoding to convert the data to numerical arrays.\n",
    "- You should be dropping one category from each variable when using the one-hot encoder.  \n",
    "- To ensure the pipeline doesn't break when it receives new/unexpected categories, you should ignore new categories.\n",
    "- Use a fit transformer on the training dataset to validate all the columns are now numeric and to determine how many columns the transformed data contains."
   ]
  },
  {
   "cell_type": "code",
   "execution_count": 20,
   "metadata": {},
   "outputs": [
    {
     "name": "stdout",
     "output_type": "stream",
     "text": [
      "Transformed CATEGORICAL Data Shape:   (9055, 41)\n"
     ]
    }
   ],
   "source": [
    "# insert code here\n",
    "\n",
    "# I have defined the categorical pipeline without dropping the first category....\n",
    "categoric_pipeline = Pipeline(steps=[\n",
    "    ('imputer', SimpleImputer(strategy='most_frequent')),\n",
    "    ('onehot', OneHotEncoder(handle_unknown='ignore'))\n",
    "])\n",
    "\n",
    "\n",
    "# I have Applied the pipeline to the cat_df....\n",
    "encoded_data = categoric_pipeline.fit_transform(cat_df).toarray()\n",
    "\n",
    "\n",
    "#here droped the first column for each category....\n",
    "categories = categoric_pipeline.named_steps['onehot'].categories_\n",
    "columns_to_drop = [0]                 # Assuming the first column is the first category of the fisrt feature......\n",
    "for category_list in categories[:-1]:\n",
    "    columns_to_drop.append(columns_to_drop[-1] + len(category_list))\n",
    "    \n",
    "\n",
    "# and droped columns here....\n",
    "transformed_categorical_data = np.delete(encoded_data, columns_to_drop, axis=1)\n",
    "\n",
    "print(\"Transformed CATEGORICAL Data Shape:  \", transformed_categorical_data.shape)\n",
    "\n"
   ]
  },
  {
   "cell_type": "markdown",
   "metadata": {},
   "source": [
    "## Question 4: Combine the numerical and categorical pipelines into one data processing pipeline.\n",
    "- Use a fit transformers and the training dataset to verify the data has no missing values and the correct number of columns."
   ]
  },
  {
   "cell_type": "code",
   "execution_count": 22,
   "metadata": {},
   "outputs": [
    {
     "name": "stdout",
     "output_type": "stream",
     "text": [
      "TRANSFORMED Data Shape:  (9055, 48)\n"
     ]
    }
   ],
   "source": [
    "# insert code here\n",
    "\n",
    "# here I have Combine the numeric and categorical pipelines....\n",
    "pre_processor = ColumnTransformer(\n",
    "    transformers=[\n",
    "        ('num', numeric_pipeline, numeric_cols),\n",
    "        ('cat', categoric_pipeline, categorical_cols)\n",
    "    ])\n",
    "\n",
    "# For demonstration: Apply the combined pipeline to the full DataFrame\n",
    "# Assuming the full DataFrame is named `df`\n",
    "df_combined = pd.concat([numeric_df, cat_df], axis=1)\n",
    "transformed_data = pre_processor.fit_transform(df_combined)\n",
    "\n",
    "print(\"TRANSFORMED Data Shape: \", transformed_data.shape)\n"
   ]
  },
  {
   "cell_type": "markdown",
   "metadata": {},
   "source": [
    "## Question 5: Add a linear regression model to the pipeline.\n",
    "- Report what the $R^2$ is using the `test` data.  "
   ]
  },
  {
   "cell_type": "code",
   "execution_count": 24,
   "metadata": {},
   "outputs": [
    {
     "name": "stdout",
     "output_type": "stream",
     "text": [
      "R^2  value on the test data: 0.9999999999756931\n"
     ]
    }
   ],
   "source": [
    "# Extend the data processing pipeline with a linear regression model\n",
    "full_pipeline = Pipeline(steps=[\n",
    "    ('pre_processor', pre_processor),\n",
    "    ('model', LinearRegression())\n",
    "])\n",
    "\n",
    "\n",
    "# Assuming you have a target variable named `y`\n",
    "X_train, X_test, y_train, y_test = train_test_split(df_combined, y, test_size=0.2, random_state=42)\n",
    "full_pipeline.fit(X_train, y_train)\n",
    "r2_score = full_pipeline.score(X_test, y_test)\n",
    "print(\"R^2  value on the test data:\", r2_score)\n"
   ]
  },
  {
   "cell_type": "markdown",
   "metadata": {},
   "source": [
    "## Question 6: Create a plot(s) of the residuals. Do you have any concerns about patterns in the residuals that the model is neglecting to pick-up?\n",
    "- Include a sentence or two on what you observe."
   ]
  },
  {
   "cell_type": "code",
   "execution_count": 26,
   "metadata": {},
   "outputs": [
    {
     "data": {
      "image/png": "[encoded data removed]",
      "text/plain": [
       "<Figure size 1400x600 with 2 Axes>"
      ]
     },
     "metadata": {},
     "output_type": "display_data"
    }
   ],
   "source": [
    "# insert code here\n",
    "y_pred = full_pipeline.predict(X_test)\n",
    "residuals = y_test - y_pred\n",
    "\n",
    "# here tried to use Scatter plot for predicted values vs residuals....\n",
    "plt.figure(figsize=(14, 6))\n",
    "\n",
    "plt.subplot(1, 2, 1)\n",
    "plt.scatter(y_pred, residuals, alpha=0.5)\n",
    "plt.title('RESIDUAL vs PREDICTED Values')\n",
    "plt.xlabel('Predicted Values')\n",
    "plt.ylabel('Residuals')\n",
    "plt.axhline(y=0, color='red', linestyle='--')\n",
    "\n",
    "# and histogram fro Histogram of residuals also....\n",
    "plt.subplot(1, 2, 2)\n",
    "plt.hist(residuals, bins=30)\n",
    "plt.title('HISTOGRAM of RESIDUALs')\n",
    "plt.xlabel('Residual Value')\n",
    "plt.ylabel('Frequency')\n",
    "\n",
    "plt.tight_layout()\n",
    "plt.show()\n"
   ]
  },
  {
   "cell_type": "markdown",
   "metadata": {},
   "source": [
    "Insert description here."
   ]
  },
  {
   "cell_type": "markdown",
   "metadata": {},
   "source": [
    "### Conclusion:\n",
    "histogram of residuals appears to be roughly normally distributed, that's a good sign. It indicates that the model's errors (residuals) are random and don't have a systematic bias."
   ]
  },
  {
   "cell_type": "markdown",
   "metadata": {},
   "source": [
    "## Question 7: Modify the pipeline to use a ridge regression model with an alpha value of 100. How does this change the $R^2$?"
   ]
  },
  {
   "cell_type": "code",
   "execution_count": 28,
   "metadata": {},
   "outputs": [
    {
     "name": "stdout",
     "output_type": "stream",
     "text": [
      "R^2 using RIDGE Regression fro test data: 0.9989488851922927\n"
     ]
    }
   ],
   "source": [
    "# here i modified the pipeline to use Ridge Regression....\n",
    "ridge_pipeline = Pipeline(steps=[\n",
    "    ('pre_processor', pre_processor),\n",
    "    ('model', Ridge(alpha=100))\n",
    "])\n",
    "\n",
    "# here fitted the ridge pipeline to the training data...\n",
    "ridge_pipeline.fit(X_train, y_train)\n",
    "\n",
    "# evaluation on test data....\n",
    "r2_score_ridge = ridge_pipeline.score(X_test, y_test)\n",
    "print(\"R^2 using RIDGE Regression fro test data:\", r2_score_ridge)\n"
   ]
  },
  {
   "cell_type": "markdown",
   "metadata": {},
   "source": [
    "### sample narrative :\n",
    "while the Ridge Regression model has a slightly lower  R2 score on this dataset, it might perform better on new, unseen data due to its regularization. It's also a safer choice in situations where the data might have multicollinearity. "
   ]
  },
  {
   "cell_type": "code",
   "execution_count": null,
   "metadata": {},
   "outputs": [],
   "source": []
  }
 ],
 "metadata": {
  "kernelspec": {
   "display_name": "Python 3 (ipykernel)",
   "language": "python",
   "name": "python3"
  },
  "language_info": {
   "codemirror_mode": {
    "name": "ipython",
    "version": 3
   },
   "file_extension": ".py",
   "mimetype": "text/x-python",
   "name": "python",
   "nbconvert_exporter": "python",
   "pygments_lexer": "ipython3",
   "version": "3.11.4"
  },
  "toc": {
   "base_numbering": 1,
   "nav_menu": {},
   "number_sections": true,
   "sideBar": true,
   "skip_h1_title": false,
   "title_cell": "Table of Contents",
   "title_sidebar": "Contents",
   "toc_cell": false,
   "toc_position": {},
   "toc_section_display": true,
   "toc_window_display": false
  }
 },
 "nbformat": 4,
 "nbformat_minor": 4
}
