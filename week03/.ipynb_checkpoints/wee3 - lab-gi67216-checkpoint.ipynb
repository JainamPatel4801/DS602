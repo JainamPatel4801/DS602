{
 "cells": [
  {
   "cell_type": "markdown",
   "id": "57771d6f",
   "metadata": {},
   "source": [
    "# Week 3 - Lab"
   ]
  },
  {
   "cell_type": "markdown",
   "id": "ccb647fd",
   "metadata": {},
   "source": [
    "## Part1: \n",
    "#### Explain briefly (1-2 sentences) "
   ]
  },
  {
   "cell_type": "markdown",
   "id": "1d4ce05f",
   "metadata": {},
   "source": [
    "1. Differences between supervised and unsupervised learning?  \n"
   ]
  },
  {
   "cell_type": "markdown",
   "id": "03e12e71",
   "metadata": {},
   "source": [
    "Your answer"
   ]
  },
  {
   "cell_type": "markdown",
   "id": "196592bd",
   "metadata": {},
   "source": [
    ": the main difference between the supervised learning and unsupervised learning may be said as the type of data which is used for the machine learning predictions is in sorted and unsorted (labeled and unlabeled) form, which gives us the a easy way for sorted data to handle rather than unsorted. Another reason we can say is that supervised learning helps in getting direct feedback or response of the data involved in that, while unsupervised data does not. Another main reason depends on the output the type of data gives which means in supervised learning data provides the predictions or we can future outcomes of the data which we have provide as input, while the unsupervised learning give us the idea about the embedded unknown structure in which the machine learning algorithm is working to give the output. "
   ]
  },
  {
   "cell_type": "markdown",
   "id": "ff70d958",
   "metadata": {},
   "source": [
    "2. Differences between classification and regression?  "
   ]
  },
  {
   "cell_type": "markdown",
   "id": "8a7b813d",
   "metadata": {},
   "source": [
    "Your answer"
   ]
  },
  {
   "cell_type": "markdown",
   "id": "cfb51157",
   "metadata": {},
   "source": [
    ": both the classification and regression is part of the supervised learning, the main reason with which we can differnciate between both is that classification is used to predict unique part of data while the regression is used to predict the main continuos data coming in the process. As of the main difference the outcome is depended which means classification gives fixed data as output while regression provide the continuos output of data as processed."
   ]
  },
  {
   "cell_type": "markdown",
   "id": "d99b1c51",
   "metadata": {},
   "source": [
    "3. Classification and regression are the only types of supervised learning? "
   ]
  },
  {
   "cell_type": "markdown",
   "id": "dc69142e",
   "metadata": {},
   "source": [
    "Your answer"
   ]
  },
  {
   "cell_type": "markdown",
   "id": "91104aec",
   "metadata": {},
   "source": [
    ": there some other types but i just know about the naive bayes classifications."
   ]
  },
  {
   "cell_type": "markdown",
   "id": "2dddc898",
   "metadata": {},
   "source": [
    "## Part2\n",
    "\n",
    "#### Write a rule based predictor. \n",
    "Do your EDA and complete `predict_one` function below.\n",
    "Your model does not need to be perfect!\n",
    "\n",
    "* Don't use a machine learning model"
   ]
  },
  {
   "cell_type": "code",
   "execution_count": 4,
   "id": "76611fb3",
   "metadata": {},
   "outputs": [
    {
     "name": "stdout",
     "output_type": "stream",
     "text": [
      "<class 'pandas.core.frame.DataFrame'>\n",
      "RangeIndex: 150 entries, 0 to 149\n",
      "Data columns (total 5 columns):\n",
      " #   Column        Non-Null Count  Dtype  \n",
      "---  ------        --------------  -----  \n",
      " 0   sepal_length  150 non-null    float64\n",
      " 1   sepal_width   150 non-null    float64\n",
      " 2   petal_length  150 non-null    float64\n",
      " 3   petal_width   150 non-null    float64\n",
      " 4   species       150 non-null    object \n",
      "dtypes: float64(4), object(1)\n",
      "memory usage: 6.0+ KB\n"
     ]
    }
   ],
   "source": [
    "import pandas as pd\n",
    "import numpy as np\n",
    "from matplotlib import pyplot as plt\n",
    "\n",
    "df = pd.read_csv('https://raw.githubusercontent.com/msaricaumbc/DS_data/master/ds602/iris.csv')\n",
    "df.info()"
   ]
  },
  {
   "cell_type": "code",
   "execution_count": 5,
   "id": "3939e20f",
   "metadata": {},
   "outputs": [
    {
     "data": {
      "text/plain": [
       "Iris-setosa        50\n",
       "Iris-versicolor    50\n",
       "Iris-virginica     50\n",
       "Name: species, dtype: int64"
      ]
     },
     "execution_count": 5,
     "metadata": {},
     "output_type": "execute_result"
    }
   ],
   "source": [
    "df.species.value_counts()"
   ]
  },
  {
   "cell_type": "code",
   "execution_count": 6,
   "id": "1187a50c",
   "metadata": {},
   "outputs": [],
   "source": [
    "def predict_one(sepal_length, sepal_width, petal_length, petal_width):\n",
    "    # your code\n",
    "    \n",
    "     if petal_length < 2.4:\n",
    "        \n",
    "        return 'Iris-setosa'\n",
    "     elif petal_length < 4.2:\n",
    "        if petal_width < 1.4:\n",
    "            return 'Iris-versicolor'\n",
    "        else:\n",
    "            return 'Iris-virginica'\n",
    "            \n",
    "            \n",
    "        return 'Iris-setosa'\n"
   ]
  },
  {
   "cell_type": "code",
   "execution_count": 7,
   "id": "567ee68e",
   "metadata": {},
   "outputs": [
    {
     "name": "stdout",
     "output_type": "stream",
     "text": [
      "Accuracy: 0.4533333333333333\n"
     ]
    }
   ],
   "source": [
    "## DO NOT MODIFY THIS CELL\n",
    "def show_accuracy():\n",
    "    predictions = pd.Series([ predict_one(sl, sw, pl, pw) for sl, sw, pl, pw in zip(df.sepal_length, df.sepal_width, df.petal_length, df.petal_width)])\n",
    "    accuracy = sum(df.species == predictions) / len(df)\n",
    "    print(f\"Accuracy: {accuracy}\")\n",
    "    \n",
    "show_accuracy()"
   ]
  },
  {
   "cell_type": "markdown",
   "id": "2739643f",
   "metadata": {},
   "source": [
    "####  : After putting the value from the class notes table of petal length, width,etc it give the accuracy from 0.23 to 0.45 which sugests that, the more the number of data related to the flower it increases the possibilty of increase in the accuracy of species predications."
   ]
  },
  {
   "cell_type": "code",
   "execution_count": null,
   "id": "e8b95d88",
   "metadata": {},
   "outputs": [],
   "source": []
  }
 ],
 "metadata": {
  "kernelspec": {
   "display_name": "Python 3 (ipykernel)",
   "language": "python",
   "name": "python3"
  },
  "language_info": {
   "codemirror_mode": {
    "name": "ipython",
    "version": 3
   },
   "file_extension": ".py",
   "mimetype": "text/x-python",
   "name": "python",
   "nbconvert_exporter": "python",
   "pygments_lexer": "ipython3",
   "version": "3.11.4"
  },
  "toc": {
   "base_numbering": 1,
   "nav_menu": {},
   "number_sections": true,
   "sideBar": true,
   "skip_h1_title": false,
   "title_cell": "Table of Contents",
   "title_sidebar": "Contents",
   "toc_cell": false,
   "toc_position": {},
   "toc_section_display": true,
   "toc_window_display": false
  }
 },
 "nbformat": 4,
 "nbformat_minor": 5
}
