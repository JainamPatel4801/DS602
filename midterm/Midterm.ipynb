{
 "cells": [
  {
   "cell_type": "markdown",
   "id": "8dbacf51",
   "metadata": {
    "id": "8dbacf51"
   },
   "source": [
    "# DS602 Midterm\n",
    "\n",
    "Fake Reviews Dataset.\n",
    "\n",
    "https://osf.io/3vds7\n",
    "\n",
    "Goal is to identify the `label`.\n",
    "\n",
    "* Use random_state = 120\n",
    "* Don't use any pretrained ML model/library\n",
    "* If you need to encode the target variable (label), you may use [LabelEncoder](https://scikit-learn.org/stable/modules/generated/sklearn.preprocessing.LabelEncoder.html)"
   ]
  },
  {
   "cell_type": "markdown",
   "id": "e1a4d07e",
   "metadata": {},
   "source": [
    "## This file is in collaboration of Ayushi Bhujade(ZG28331) and  Jainam Maheshkumar Patel (GI67216)"
   ]
  },
  {
   "cell_type": "code",
   "execution_count": 1,
   "id": "887381ca",
   "metadata": {
    "id": "887381ca"
   },
   "outputs": [],
   "source": [
    "import pandas as pd\n",
    "# you can import additional libraries"
   ]
  },
  {
   "cell_type": "code",
   "execution_count": 2,
   "id": "7a244da2",
   "metadata": {},
   "outputs": [],
   "source": [
    "import ssl\n",
    "\n",
    "try:\n",
    "    _create_unverified_https_context = ssl._create_unverified_context\n",
    "except AttributeError:\n",
    "    # Legacy Python that doesn't verify HTTPS certificates by default\n",
    "    pass\n",
    "else:\n",
    "    # Handle target environment that doesn't support HTTPS verification\n",
    "    ssl._create_default_https_context = _create_unverified_https_context"
   ]
  },
  {
   "cell_type": "code",
   "execution_count": 3,
   "id": "73d28d3c",
   "metadata": {
    "id": "73d28d3c"
   },
   "outputs": [],
   "source": [
    "df = pd.read_csv('https://osf.io/download/3vds7/')"
   ]
  },
  {
   "cell_type": "code",
   "execution_count": 4,
   "id": "5fe7e5cc",
   "metadata": {},
   "outputs": [
    {
     "data": {
      "text/plain": [
       "(40432, 4)"
      ]
     },
     "execution_count": 4,
     "metadata": {},
     "output_type": "execute_result"
    }
   ],
   "source": [
    "df.shape"
   ]
  },
  {
   "cell_type": "markdown",
   "id": "4BqqBV3Q8JMw",
   "metadata": {
    "id": "4BqqBV3Q8JMw"
   },
   "source": [
    "## Exploring the dataset"
   ]
  },
  {
   "cell_type": "code",
   "execution_count": 5,
   "id": "ddd0c156",
   "metadata": {
    "colab": {
     "base_uri": "https://localhost:8080/",
     "height": 206
    },
    "id": "ddd0c156",
    "outputId": "a434e739-1c88-456a-f13f-167b6e19126b",
    "scrolled": true
   },
   "outputs": [
    {
     "data": {
      "text/html": [
       "<div>\n",
       "<style scoped>\n",
       "    .dataframe tbody tr th:only-of-type {\n",
       "        vertical-align: middle;\n",
       "    }\n",
       "\n",
       "    .dataframe tbody tr th {\n",
       "        vertical-align: top;\n",
       "    }\n",
       "\n",
       "    .dataframe thead th {\n",
       "        text-align: right;\n",
       "    }\n",
       "</style>\n",
       "<table border=\"1\" class=\"dataframe\">\n",
       "  <thead>\n",
       "    <tr style=\"text-align: right;\">\n",
       "      <th></th>\n",
       "      <th>category</th>\n",
       "      <th>rating</th>\n",
       "      <th>label</th>\n",
       "      <th>text_</th>\n",
       "    </tr>\n",
       "  </thead>\n",
       "  <tbody>\n",
       "    <tr>\n",
       "      <th>0</th>\n",
       "      <td>Home_and_Kitchen_5</td>\n",
       "      <td>5.0</td>\n",
       "      <td>CG</td>\n",
       "      <td>Love this!  Well made, sturdy, and very comfor...</td>\n",
       "    </tr>\n",
       "    <tr>\n",
       "      <th>1</th>\n",
       "      <td>Home_and_Kitchen_5</td>\n",
       "      <td>5.0</td>\n",
       "      <td>CG</td>\n",
       "      <td>love it, a great upgrade from the original.  I...</td>\n",
       "    </tr>\n",
       "    <tr>\n",
       "      <th>2</th>\n",
       "      <td>Home_and_Kitchen_5</td>\n",
       "      <td>5.0</td>\n",
       "      <td>CG</td>\n",
       "      <td>This pillow saved my back. I love the look and...</td>\n",
       "    </tr>\n",
       "    <tr>\n",
       "      <th>3</th>\n",
       "      <td>Home_and_Kitchen_5</td>\n",
       "      <td>1.0</td>\n",
       "      <td>CG</td>\n",
       "      <td>Missing information on how to use it, but it i...</td>\n",
       "    </tr>\n",
       "    <tr>\n",
       "      <th>4</th>\n",
       "      <td>Home_and_Kitchen_5</td>\n",
       "      <td>5.0</td>\n",
       "      <td>CG</td>\n",
       "      <td>Very nice set. Good quality. We have had the s...</td>\n",
       "    </tr>\n",
       "  </tbody>\n",
       "</table>\n",
       "</div>"
      ],
      "text/plain": [
       "             category  rating label  \\\n",
       "0  Home_and_Kitchen_5     5.0    CG   \n",
       "1  Home_and_Kitchen_5     5.0    CG   \n",
       "2  Home_and_Kitchen_5     5.0    CG   \n",
       "3  Home_and_Kitchen_5     1.0    CG   \n",
       "4  Home_and_Kitchen_5     5.0    CG   \n",
       "\n",
       "                                               text_  \n",
       "0  Love this!  Well made, sturdy, and very comfor...  \n",
       "1  love it, a great upgrade from the original.  I...  \n",
       "2  This pillow saved my back. I love the look and...  \n",
       "3  Missing information on how to use it, but it i...  \n",
       "4  Very nice set. Good quality. We have had the s...  "
      ]
     },
     "execution_count": 5,
     "metadata": {},
     "output_type": "execute_result"
    }
   ],
   "source": [
    "df.head()"
   ]
  },
  {
   "cell_type": "code",
   "execution_count": 6,
   "id": "x6CY0PI18dyY",
   "metadata": {
    "colab": {
     "base_uri": "https://localhost:8080/"
    },
    "id": "x6CY0PI18dyY",
    "outputId": "fa941788-6d4f-4989-c0fc-d6ae9a16513b"
   },
   "outputs": [
    {
     "data": {
      "text/plain": [
       "category    0\n",
       "rating      0\n",
       "label       0\n",
       "text_       0\n",
       "dtype: int64"
      ]
     },
     "execution_count": 6,
     "metadata": {},
     "output_type": "execute_result"
    }
   ],
   "source": [
    "df.isnull().sum()"
   ]
  },
  {
   "cell_type": "markdown",
   "id": "y_jrnIhw-kcA",
   "metadata": {
    "id": "y_jrnIhw-kcA"
   },
   "source": [
    "There's is no column with null values"
   ]
  },
  {
   "cell_type": "code",
   "execution_count": 7,
   "id": "JMRr3ORn9hw0",
   "metadata": {
    "colab": {
     "base_uri": "https://localhost:8080/"
    },
    "id": "JMRr3ORn9hw0",
    "outputId": "8033665f-3646-45f7-956c-86c8bd284315"
   },
   "outputs": [
    {
     "name": "stdout",
     "output_type": "stream",
     "text": [
      "value counts for rating \n",
      " 5.0    24559\n",
      "4.0     7965\n",
      "3.0     3786\n",
      "1.0     2155\n",
      "2.0     1967\n",
      "Name: rating, dtype: int64 \n",
      "\n",
      "value counts for label \n",
      " CG    20216\n",
      "OR    20216\n",
      "Name: label, dtype: int64\n"
     ]
    }
   ],
   "source": [
    "#printing value counts\n",
    "print(\"value counts for rating \\n\", df.rating.value_counts(),\"\\n\")\n",
    "print(\"value counts for label \\n\", df.label.value_counts())"
   ]
  },
  {
   "cell_type": "markdown",
   "id": "9zJ5Re-eAkAa",
   "metadata": {
    "id": "9zJ5Re-eAkAa"
   },
   "source": [
    "The target variable- \"label\" is balanced"
   ]
  },
  {
   "cell_type": "markdown",
   "id": "0kPZDj-vBGjz",
   "metadata": {
    "id": "0kPZDj-vBGjz"
   },
   "source": [
    "## Feature Egineering\n",
    "We need to extract the features from the \"text\" column which is a comination of words using technique- TF-IDF"
   ]
  },
  {
   "cell_type": "code",
   "execution_count": 8,
   "id": "sYQqWRAECBel",
   "metadata": {
    "colab": {
     "base_uri": "https://localhost:8080/"
    },
    "id": "sYQqWRAECBel",
    "outputId": "e7553cbf-4a3a-45ca-c5fe-104e311a8d42"
   },
   "outputs": [
    {
     "data": {
      "text/plain": [
       "<40432x1000 sparse matrix of type '<class 'numpy.float64'>'\n",
       "\twith 1340041 stored elements in Compressed Sparse Row format>"
      ]
     },
     "execution_count": 8,
     "metadata": {},
     "output_type": "execute_result"
    }
   ],
   "source": [
    "from sklearn.feature_extraction.text import TfidfVectorizer\n",
    "tfidf_vectorizer = TfidfVectorizer(max_features=1000)\n",
    "X = tfidf_vectorizer.fit_transform(df['text_'])\n",
    "X"
   ]
  },
  {
   "cell_type": "markdown",
   "id": "qULXSUyO8FqI",
   "metadata": {
    "id": "qULXSUyO8FqI"
   },
   "source": [
    "## Encode the Target Label\n"
   ]
  },
  {
   "cell_type": "code",
   "execution_count": 9,
   "id": "eOupI-Cp8KJx",
   "metadata": {
    "id": "eOupI-Cp8KJx"
   },
   "outputs": [],
   "source": [
    "from sklearn.preprocessing import LabelEncoder\n",
    "le = LabelEncoder()\n",
    "df['label'] = le.fit_transform(df['label'])"
   ]
  },
  {
   "cell_type": "markdown",
   "id": "dAejtWvI8jvK",
   "metadata": {
    "id": "dAejtWvI8jvK"
   },
   "source": [
    "## Train-Test split"
   ]
  },
  {
   "cell_type": "code",
   "execution_count": 10,
   "id": "2wUYZyvG8mGr",
   "metadata": {
    "id": "2wUYZyvG8mGr"
   },
   "outputs": [],
   "source": [
    "from sklearn.model_selection import train_test_split\n",
    "X_train, X_test, y_train, y_test = train_test_split(X, df['label'], test_size=0.2, random_state=120)"
   ]
  },
  {
   "cell_type": "markdown",
   "id": "k_FmoE9g_RNB",
   "metadata": {
    "id": "k_FmoE9g_RNB"
   },
   "source": [
    "## Implement a custom ML model\n",
    "\n",
    "## 1st Model: Logistic Regression"
   ]
  },
  {
   "cell_type": "code",
   "execution_count": 11,
   "id": "r3KMkKe-bV9x",
   "metadata": {
    "colab": {
     "base_uri": "https://localhost:8080/"
    },
    "id": "r3KMkKe-bV9x",
    "outputId": "727d928e-5b25-4cf0-b0e3-8a539b824975"
   },
   "outputs": [
    {
     "name": "stdout",
     "output_type": "stream",
     "text": [
      "Accuracy: 0.888833931000371\n"
     ]
    }
   ],
   "source": [
    "from sklearn.linear_model import LogisticRegression\n",
    "logistic_regression_model = LogisticRegression(random_state=120)\n",
    "logistic_regression_model.fit(X_train, y_train)\n",
    "y_pred_lr = logistic_regression_model.predict(X_test)\n",
    "\n",
    "# Evaluate the model\n",
    "from sklearn.metrics import accuracy_score\n",
    "accuracy_lr = accuracy_score(y_test, y_pred_lr)\n",
    "print(f\"Accuracy: {accuracy_lr}\")"
   ]
  },
  {
   "cell_type": "markdown",
   "id": "8x9MHoa5eiEI",
   "metadata": {
    "id": "8x9MHoa5eiEI"
   },
   "source": [
    "The binary nature of the classification task, where the goal is to predict either \"CR\" or \"OG.\" helped me with choice of utilizing logistic regression. Given the simplicity and effectiveness of logistic regression in handling binary classification, it emerges as a fitting model for this specific scenario."
   ]
  },
  {
   "cell_type": "markdown",
   "id": "1x5wba4UgT0z",
   "metadata": {
    "id": "1x5wba4UgT0z"
   },
   "source": [
    "## 2nd Model : SVM (Support Vector Machines)"
   ]
  },
  {
   "cell_type": "code",
   "execution_count": 12,
   "id": "jiIn04QOgBUT",
   "metadata": {
    "colab": {
     "background_save": true
    },
    "id": "jiIn04QOgBUT"
   },
   "outputs": [
    {
     "name": "stdout",
     "output_type": "stream",
     "text": [
      "SVM Model Accuracy: 0.9155434648200816\n"
     ]
    }
   ],
   "source": [
    "from sklearn.svm import SVC\n",
    "from sklearn.metrics import accuracy_score\n",
    "\n",
    "svm_model = SVC(random_state=120)\n",
    "svm_model.fit(X_train, y_train)\n",
    "y_pred_svm = svm_model.predict(X_test)\n",
    "\n",
    "# Evaluate the model\n",
    "accuracy_svm = accuracy_score(y_test, y_pred_svm)\n",
    "print(f\"SVM Model Accuracy: {accuracy_svm}\")\n"
   ]
  },
  {
   "cell_type": "markdown",
   "id": "FwvzQinmgdBY",
   "metadata": {
    "id": "FwvzQinmgdBY"
   },
   "source": [
    "## 3rd Model: Random Forest"
   ]
  },
  {
   "cell_type": "code",
   "execution_count": 13,
   "id": "6lGbL5wLgA5g",
   "metadata": {
    "colab": {
     "background_save": true
    },
    "id": "6lGbL5wLgA5g"
   },
   "outputs": [
    {
     "name": "stdout",
     "output_type": "stream",
     "text": [
      "Random Forest Model Accuracy: 0.8762210955855076\n"
     ]
    }
   ],
   "source": [
    "from sklearn.ensemble import RandomForestClassifier\n",
    "from sklearn.metrics import accuracy_score\n",
    "\n",
    "rf_model = RandomForestClassifier(random_state=120)\n",
    "rf_model.fit(X_train, y_train)\n",
    "y_pred_rf = rf_model.predict(X_test)\n",
    "\n",
    "# Evaluate the model\n",
    "accuracy_rf = accuracy_score(y_test, y_pred_rf)\n",
    "print(f\"Random Forest Model Accuracy: {accuracy_rf}\")"
   ]
  },
  {
   "cell_type": "markdown",
   "id": "uKyHAqjGgp7b",
   "metadata": {
    "id": "uKyHAqjGgp7b"
   },
   "source": [
    "Findings:\n",
    "1. From above 3 experiments, SVM performed the best with highest accuracy and considering initial settings of parameters.\n",
    "2. The above models can be optimized for hyper-parameters which will definitely improve the accuracies but might result in overfitting.\n",
    "3. For increased number for labels, Random Forest will be the best choice for its simplicity in handling multiple classes.\n"
   ]
  }
 ],
 "metadata": {
  "colab": {
   "provenance": []
  },
  "kernelspec": {
   "display_name": "Python 3 (ipykernel)",
   "language": "python",
   "name": "python3"
  },
  "language_info": {
   "codemirror_mode": {
    "name": "ipython",
    "version": 3
   },
   "file_extension": ".py",
   "mimetype": "text/x-python",
   "name": "python",
   "nbconvert_exporter": "python",
   "pygments_lexer": "ipython3",
   "version": "3.11.4"
  }
 },
 "nbformat": 4,
 "nbformat_minor": 5
}
