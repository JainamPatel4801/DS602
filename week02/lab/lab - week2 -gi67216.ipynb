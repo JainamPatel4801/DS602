{
 "cells": [
  {
   "cell_type": "markdown",
   "id": "4634ffec",
   "metadata": {},
   "source": [
    "# Lab - Week2\n",
    "\n",
    "GI67216 "
   ]
  },
  {
   "cell_type": "markdown",
   "id": "f0450f50",
   "metadata": {},
   "source": [
    "**<u>refernce</u>**: for study \n",
    "##### https://www.w3schools.com/python/"
   ]
  },
{
   "cell_type": "markdown",
   "id": "f0450f50",
   "metadata": {},
   "source": [
    "**<u>refernce</u>**: for study \n",
    "##### https://pandas.pydata.org/docs/reference/frame.html"
   ]
  },
  {
   "cell_type": "markdown",
   "id": "77449aed",
   "metadata": {},
   "source": [
    "## Questions:\n",
    "\n",
    "1. When do the first and last flights leave each day?\n",
    "\n",
    "1. When there is a missing value in dep_time then this is an indication of canceled flight. Find the number of cancelled flights for each (carrier, origin) combination.\n",
    "\n",
    "1. Which carrier has the worst dep_delays?\n",
    "\n",
    "1. Which plane (tailnum) has the worst on-time record?\n",
    "\n",
    "1. For each plane, count the number of flights before the first delay of greater than 1 hour.\n",
    "\n",
    "1. By using the flights data find all flights:\n",
    "\n",
    "1. Had an arrival delay of two or more hours.\n",
    "\n",
    "1. Flew to Houston (IAH or HOU)\n",
    "\n",
    "1. Were operated by American, Delta\n",
    "\n",
    "1. How many values are missing in dep_time?\n",
    "\n",
    "1. Sort flight to find fastest flight.\n",
    "\n",
    "1. Which flights travelled the shortest?\n",
    "\n",
    "1. Merge `flights` dataframe with `weather` dataframe and investigate if weather has any affect on delays"
   ]
  },
  {
   "cell_type": "code",
   "execution_count": 27,
   "id": "28596f84",
   "metadata": {},
   "outputs": [
    {
     "data": {
      "text/html": [
       "<div>\n",
       "<style scoped>\n",
       "    .dataframe tbody tr th:only-of-type {\n",
       "        vertical-align: middle;\n",
       "    }\n",
       "\n",
       "    .dataframe tbody tr th {\n",
       "        vertical-align: top;\n",
       "    }\n",
       "\n",
       "    .dataframe thead th {\n",
       "        text-align: right;\n",
       "    }\n",
       "</style>\n",
       "<table border=\"1\" class=\"dataframe\">\n",
       "  <thead>\n",
       "    <tr style=\"text-align: right;\">\n",
       "      <th></th>\n",
       "      <th>origin</th>\n",
       "      <th>year</th>\n",
       "      <th>month</th>\n",
       "      <th>day</th>\n",
       "      <th>hour</th>\n",
       "      <th>temp</th>\n",
       "      <th>dewp</th>\n",
       "      <th>humid</th>\n",
       "      <th>wind_dir</th>\n",
       "      <th>wind_speed</th>\n",
       "      <th>wind_gust</th>\n",
       "      <th>precip</th>\n",
       "      <th>pressure</th>\n",
       "      <th>visib</th>\n",
       "      <th>time_hour</th>\n",
       "    </tr>\n",
       "  </thead>\n",
       "  <tbody>\n",
       "    <tr>\n",
       "      <th>0</th>\n",
       "      <td>EWR</td>\n",
       "      <td>2013</td>\n",
       "      <td>1</td>\n",
       "      <td>1</td>\n",
       "      <td>1</td>\n",
       "      <td>39.02</td>\n",
       "      <td>26.06</td>\n",
       "      <td>59.37</td>\n",
       "      <td>270.0</td>\n",
       "      <td>10.35702</td>\n",
       "      <td>NaN</td>\n",
       "      <td>0.0</td>\n",
       "      <td>1012.0</td>\n",
       "      <td>10.0</td>\n",
       "      <td>2013-01-01T06:00:00Z</td>\n",
       "    </tr>\n",
       "    <tr>\n",
       "      <th>1</th>\n",
       "      <td>EWR</td>\n",
       "      <td>2013</td>\n",
       "      <td>1</td>\n",
       "      <td>1</td>\n",
       "      <td>2</td>\n",
       "      <td>39.02</td>\n",
       "      <td>26.96</td>\n",
       "      <td>61.63</td>\n",
       "      <td>250.0</td>\n",
       "      <td>8.05546</td>\n",
       "      <td>NaN</td>\n",
       "      <td>0.0</td>\n",
       "      <td>1012.3</td>\n",
       "      <td>10.0</td>\n",
       "      <td>2013-01-01T07:00:00Z</td>\n",
       "    </tr>\n",
       "    <tr>\n",
       "      <th>2</th>\n",
       "      <td>EWR</td>\n",
       "      <td>2013</td>\n",
       "      <td>1</td>\n",
       "      <td>1</td>\n",
       "      <td>3</td>\n",
       "      <td>39.02</td>\n",
       "      <td>28.04</td>\n",
       "      <td>64.43</td>\n",
       "      <td>240.0</td>\n",
       "      <td>11.50780</td>\n",
       "      <td>NaN</td>\n",
       "      <td>0.0</td>\n",
       "      <td>1012.5</td>\n",
       "      <td>10.0</td>\n",
       "      <td>2013-01-01T08:00:00Z</td>\n",
       "    </tr>\n",
       "    <tr>\n",
       "      <th>3</th>\n",
       "      <td>EWR</td>\n",
       "      <td>2013</td>\n",
       "      <td>1</td>\n",
       "      <td>1</td>\n",
       "      <td>4</td>\n",
       "      <td>39.92</td>\n",
       "      <td>28.04</td>\n",
       "      <td>62.21</td>\n",
       "      <td>250.0</td>\n",
       "      <td>12.65858</td>\n",
       "      <td>NaN</td>\n",
       "      <td>0.0</td>\n",
       "      <td>1012.2</td>\n",
       "      <td>10.0</td>\n",
       "      <td>2013-01-01T09:00:00Z</td>\n",
       "    </tr>\n",
       "    <tr>\n",
       "      <th>4</th>\n",
       "      <td>EWR</td>\n",
       "      <td>2013</td>\n",
       "      <td>1</td>\n",
       "      <td>1</td>\n",
       "      <td>5</td>\n",
       "      <td>39.02</td>\n",
       "      <td>28.04</td>\n",
       "      <td>64.43</td>\n",
       "      <td>260.0</td>\n",
       "      <td>12.65858</td>\n",
       "      <td>NaN</td>\n",
       "      <td>0.0</td>\n",
       "      <td>1011.9</td>\n",
       "      <td>10.0</td>\n",
       "      <td>2013-01-01T10:00:00Z</td>\n",
       "    </tr>\n",
       "  </tbody>\n",
       "</table>\n",
       "</div>"
      ],
      "text/plain": [
       "  origin  year  month  day  hour   temp   dewp  humid  wind_dir  wind_speed  \\\n",
       "0    EWR  2013      1    1     1  39.02  26.06  59.37     270.0    10.35702   \n",
       "1    EWR  2013      1    1     2  39.02  26.96  61.63     250.0     8.05546   \n",
       "2    EWR  2013      1    1     3  39.02  28.04  64.43     240.0    11.50780   \n",
       "3    EWR  2013      1    1     4  39.92  28.04  62.21     250.0    12.65858   \n",
       "4    EWR  2013      1    1     5  39.02  28.04  64.43     260.0    12.65858   \n",
       "\n",
       "   wind_gust  precip  pressure  visib             time_hour  \n",
       "0        NaN     0.0    1012.0   10.0  2013-01-01T06:00:00Z  \n",
       "1        NaN     0.0    1012.3   10.0  2013-01-01T07:00:00Z  \n",
       "2        NaN     0.0    1012.5   10.0  2013-01-01T08:00:00Z  \n",
       "3        NaN     0.0    1012.2   10.0  2013-01-01T09:00:00Z  \n",
       "4        NaN     0.0    1011.9   10.0  2013-01-01T10:00:00Z  "
      ]
     },
     "execution_count": 27,
     "metadata": {},
     "output_type": "execute_result"
    }
   ],
   "source": [
    "import pandas as pd\n",
    "\n",
    "flights = pd.read_csv('https://raw.githubusercontent.com/msaricaumbc/DS_data/master/nyc_flights.csv')\n",
    "\n",
    "weather = pd.read_csv('https://raw.githubusercontent.com/msaricaumbc/DS_data/master/relational_data/nyc_weather.csv')\n",
    "flights.head()\n",
    "weather.head()\n"
   ]
  },
  {
   "cell_type": "code",
   "execution_count": 2,
   "id": "f20e2fbf",
   "metadata": {},
   "outputs": [
    {
     "data": {
      "text/html": [
       "<div>\n",
       "<style scoped>\n",
       "    .dataframe tbody tr th:only-of-type {\n",
       "        vertical-align: middle;\n",
       "    }\n",
       "\n",
       "    .dataframe tbody tr th {\n",
       "        vertical-align: top;\n",
       "    }\n",
       "\n",
       "    .dataframe thead th {\n",
       "        text-align: right;\n",
       "    }\n",
       "</style>\n",
       "<table border=\"1\" class=\"dataframe\">\n",
       "  <thead>\n",
       "    <tr style=\"text-align: right;\">\n",
       "      <th></th>\n",
       "      <th>year</th>\n",
       "      <th>month</th>\n",
       "      <th>day</th>\n",
       "      <th>dep_time</th>\n",
       "      <th>sched_dep_time</th>\n",
       "      <th>dep_delay</th>\n",
       "      <th>arr_time</th>\n",
       "      <th>sched_arr_time</th>\n",
       "      <th>arr_delay</th>\n",
       "      <th>carrier</th>\n",
       "      <th>flight</th>\n",
       "      <th>tailnum</th>\n",
       "      <th>origin</th>\n",
       "      <th>dest</th>\n",
       "      <th>air_time</th>\n",
       "      <th>distance</th>\n",
       "      <th>hour</th>\n",
       "      <th>minute</th>\n",
       "      <th>time_hour</th>\n",
       "    </tr>\n",
       "  </thead>\n",
       "  <tbody>\n",
       "    <tr>\n",
       "      <th>0</th>\n",
       "      <td>2013</td>\n",
       "      <td>1</td>\n",
       "      <td>1</td>\n",
       "      <td>517.0</td>\n",
       "      <td>515</td>\n",
       "      <td>2.0</td>\n",
       "      <td>830.0</td>\n",
       "      <td>819</td>\n",
       "      <td>11.0</td>\n",
       "      <td>UA</td>\n",
       "      <td>1545</td>\n",
       "      <td>N14228</td>\n",
       "      <td>EWR</td>\n",
       "      <td>IAH</td>\n",
       "      <td>227.0</td>\n",
       "      <td>1400</td>\n",
       "      <td>5</td>\n",
       "      <td>15</td>\n",
       "      <td>2013-01-01T10:00:00Z</td>\n",
       "    </tr>\n",
       "    <tr>\n",
       "      <th>1</th>\n",
       "      <td>2013</td>\n",
       "      <td>1</td>\n",
       "      <td>1</td>\n",
       "      <td>533.0</td>\n",
       "      <td>529</td>\n",
       "      <td>4.0</td>\n",
       "      <td>850.0</td>\n",
       "      <td>830</td>\n",
       "      <td>20.0</td>\n",
       "      <td>UA</td>\n",
       "      <td>1714</td>\n",
       "      <td>N24211</td>\n",
       "      <td>LGA</td>\n",
       "      <td>IAH</td>\n",
       "      <td>227.0</td>\n",
       "      <td>1416</td>\n",
       "      <td>5</td>\n",
       "      <td>29</td>\n",
       "      <td>2013-01-01T10:00:00Z</td>\n",
       "    </tr>\n",
       "    <tr>\n",
       "      <th>2</th>\n",
       "      <td>2013</td>\n",
       "      <td>1</td>\n",
       "      <td>1</td>\n",
       "      <td>542.0</td>\n",
       "      <td>540</td>\n",
       "      <td>2.0</td>\n",
       "      <td>923.0</td>\n",
       "      <td>850</td>\n",
       "      <td>33.0</td>\n",
       "      <td>AA</td>\n",
       "      <td>1141</td>\n",
       "      <td>N619AA</td>\n",
       "      <td>JFK</td>\n",
       "      <td>MIA</td>\n",
       "      <td>160.0</td>\n",
       "      <td>1089</td>\n",
       "      <td>5</td>\n",
       "      <td>40</td>\n",
       "      <td>2013-01-01T10:00:00Z</td>\n",
       "    </tr>\n",
       "    <tr>\n",
       "      <th>3</th>\n",
       "      <td>2013</td>\n",
       "      <td>1</td>\n",
       "      <td>1</td>\n",
       "      <td>544.0</td>\n",
       "      <td>545</td>\n",
       "      <td>-1.0</td>\n",
       "      <td>1004.0</td>\n",
       "      <td>1022</td>\n",
       "      <td>-18.0</td>\n",
       "      <td>B6</td>\n",
       "      <td>725</td>\n",
       "      <td>N804JB</td>\n",
       "      <td>JFK</td>\n",
       "      <td>BQN</td>\n",
       "      <td>183.0</td>\n",
       "      <td>1576</td>\n",
       "      <td>5</td>\n",
       "      <td>45</td>\n",
       "      <td>2013-01-01T10:00:00Z</td>\n",
       "    </tr>\n",
       "    <tr>\n",
       "      <th>4</th>\n",
       "      <td>2013</td>\n",
       "      <td>1</td>\n",
       "      <td>1</td>\n",
       "      <td>554.0</td>\n",
       "      <td>600</td>\n",
       "      <td>-6.0</td>\n",
       "      <td>812.0</td>\n",
       "      <td>837</td>\n",
       "      <td>-25.0</td>\n",
       "      <td>DL</td>\n",
       "      <td>461</td>\n",
       "      <td>N668DN</td>\n",
       "      <td>LGA</td>\n",
       "      <td>ATL</td>\n",
       "      <td>116.0</td>\n",
       "      <td>762</td>\n",
       "      <td>6</td>\n",
       "      <td>0</td>\n",
       "      <td>2013-01-01T11:00:00Z</td>\n",
       "    </tr>\n",
       "  </tbody>\n",
       "</table>\n",
       "</div>"
      ],
      "text/plain": [
       "   year  month  day  dep_time  sched_dep_time  dep_delay  arr_time  \\\n",
       "0  2013      1    1     517.0             515        2.0     830.0   \n",
       "1  2013      1    1     533.0             529        4.0     850.0   \n",
       "2  2013      1    1     542.0             540        2.0     923.0   \n",
       "3  2013      1    1     544.0             545       -1.0    1004.0   \n",
       "4  2013      1    1     554.0             600       -6.0     812.0   \n",
       "\n",
       "   sched_arr_time  arr_delay carrier  flight tailnum origin dest  air_time  \\\n",
       "0             819       11.0      UA    1545  N14228    EWR  IAH     227.0   \n",
       "1             830       20.0      UA    1714  N24211    LGA  IAH     227.0   \n",
       "2             850       33.0      AA    1141  N619AA    JFK  MIA     160.0   \n",
       "3            1022      -18.0      B6     725  N804JB    JFK  BQN     183.0   \n",
       "4             837      -25.0      DL     461  N668DN    LGA  ATL     116.0   \n",
       "\n",
       "   distance  hour  minute             time_hour  \n",
       "0      1400     5      15  2013-01-01T10:00:00Z  \n",
       "1      1416     5      29  2013-01-01T10:00:00Z  \n",
       "2      1089     5      40  2013-01-01T10:00:00Z  \n",
       "3      1576     5      45  2013-01-01T10:00:00Z  \n",
       "4       762     6       0  2013-01-01T11:00:00Z  "
      ]
     },
     "execution_count": 2,
     "metadata": {},
     "output_type": "execute_result"
    }
   ],
   "source": [
    "import pandas as pd\n",
    "\n",
    "flights = pd.read_csv('https://raw.githubusercontent.com/msaricaumbc/DS_data/master/nyc_flights.csv')\n",
    "\n",
    "weather = pd.read_csv('https://raw.githubusercontent.com/msaricaumbc/DS_data/master/relational_data/nyc_weather.csv')\n",
    "flights.head()"
   ]
  },
  {
   "cell_type": "markdown",
   "id": "a9d056aa",
   "metadata": {},
   "source": [
    "#### 1.When do the first and last flights leave each day?"
   ]
  },
  {
   "cell_type": "code",
   "execution_count": 16,
   "id": "0e5dea63",
   "metadata": {},
   "outputs": [
    {
     "name": "stdout",
     "output_type": "stream",
     "text": [
      ":      Year  Month  Day  First Flight Time  Last Flight Time\n",
      "0    2013      1    1              517.0            2356.0\n",
      "1    2013      1    2               42.0            2354.0\n",
      "2    2013      1    3               32.0            2349.0\n",
      "3    2013      1    4               25.0            2358.0\n",
      "4    2013      1    5               14.0            2357.0\n",
      "..    ...    ...  ...                ...               ...\n",
      "360  2013     12   27                2.0            2351.0\n",
      "361  2013     12   28                7.0            2358.0\n",
      "362  2013     12   29                3.0            2400.0\n",
      "363  2013     12   30                1.0            2356.0\n",
      "364  2013     12   31               13.0            2356.0\n",
      "\n",
      "[365 rows x 5 columns]\n"
     ]
    }
   ],
   "source": [
    "first_f = flights.groupby(['year', 'month', 'day'])['dep_time'].min().reset_index()\n",
    "last_f = flights.groupby(['year', 'month', 'day'])['dep_time'].max().reset_index()\n",
    "merged_df = first_f.merge(last_f,how=\"left\",on=['year', 'month', 'day'])\n",
    "merged_df.columns =[\"Year\",\"Month\",\"Day\",\"First Flight Time\",\"Last Flight Time\"]\n",
    "print(f\": {merged_df}\")\n"
   ]
  },
  {
   "cell_type": "markdown",
   "id": "bc0a0831",
   "metadata": {},
   "source": [
    "#### 2.When there is a missing value in dep_time then this is an indication of canceled flight. Find the number of cancelled flights for each (carrier, origin) combination."
   ]
  },
  {
   "cell_type": "code",
   "execution_count": 19,
   "id": "6a119142",
   "metadata": {},
   "outputs": [
    {
     "name": "stdout",
     "output_type": "stream",
     "text": [
      ":    carrier origin  count for cancelled flights\n",
      "0       9E    EWR                           68\n",
      "1       9E    JFK                          807\n",
      "2       9E    LGA                          169\n",
      "3       AA    EWR                           99\n",
      "4       AA    JFK                          141\n",
      "5       AA    LGA                          396\n",
      "6       AS    EWR                            2\n",
      "7       B6    EWR                           74\n",
      "8       B6    JFK                          315\n",
      "9       B6    LGA                           77\n",
      "10      DL    EWR                           39\n",
      "11      DL    JFK                          100\n",
      "12      DL    LGA                          210\n",
      "13      EV    EWR                         2164\n",
      "14      EV    JFK                           82\n",
      "15      EV    LGA                          571\n",
      "16      F9    LGA                            3\n",
      "17      FL    LGA                           73\n",
      "18      MQ    EWR                          168\n",
      "19      MQ    JFK                          327\n",
      "20      MQ    LGA                          739\n",
      "21      OO    LGA                            3\n",
      "22      UA    EWR                          435\n",
      "23      UA    JFK                           44\n",
      "24      UA    LGA                          207\n",
      "25      US    EWR                           75\n",
      "26      US    JFK                           26\n",
      "27      US    LGA                          562\n",
      "28      VX    EWR                           10\n",
      "29      VX    JFK                           21\n",
      "30      WN    EWR                          105\n",
      "31      WN    LGA                           87\n",
      "32      YV    LGA                           56\n"
     ]
    }
   ],
   "source": [
    "cancelled_f = flights[flights['dep_time'].isna()].groupby(['carrier', 'origin']).size().reset_index(name='count for cancelled flights')\n",
    "print(f\": {cancelled_f}\")"
   ]
  },
  {
   "cell_type": "markdown",
   "id": "1590c9ce",
   "metadata": {},
   "source": [
    "#### 3.Which carrier has the worst dep_delays?"
   ]
  },
  {
   "cell_type": "code",
   "execution_count": 20,
   "id": "819289a4",
   "metadata": {},
   "outputs": [
    {
     "name": "stdout",
     "output_type": "stream",
     "text": [
      ": F9\n"
     ]
    }
   ],
   "source": [
    "worst_carrier_delay = flights.groupby('carrier')['dep_delay'].mean().idxmax()\n",
    "print(f\": {worst_carrier_delay}\")"
   ]
  },
  {
   "cell_type": "markdown",
   "id": "94418773",
   "metadata": {},
   "source": [
    "#### 4.Which plane (tailnum) has the worst on-time record?"
   ]
  },
  {
   "cell_type": "code",
   "execution_count": 21,
   "id": "ad6ec6e7",
   "metadata": {},
   "outputs": [
    {
     "name": "stdout",
     "output_type": "stream",
     "text": [
      ": N844MH\n"
     ]
    }
   ],
   "source": [
    "worst_flight_r = flights.groupby('tailnum')['dep_delay'].mean().idxmax()\n",
    "\n",
    "print(f\": {worst_flight_r}\")"
   ]
  },
  {
   "cell_type": "markdown",
   "id": "5d5b47ee",
   "metadata": {},
   "source": [
    "#### 4.For each plane, count the number of flights before the first delay of greater than 1 hour."
   ]
  },
  {
   "cell_type": "code",
   "execution_count": 22,
   "id": "9e7fbe2d",
   "metadata": {},
   "outputs": [
    {
     "name": "stdout",
     "output_type": "stream",
     "text": [
      ": tailnum\n",
      "D942DN     0\n",
      "N0EGMQ    48\n",
      "N10156     9\n",
      "N102UW    33\n",
      "N103US    46\n",
      "          ..\n",
      "N997DL    12\n",
      "N998AT    15\n",
      "N998DL     2\n",
      "N999DN    19\n",
      "N9EAMQ    26\n",
      "Name: dep_delay, Length: 4043, dtype: int64\n"
     ]
    }
   ],
   "source": [
    "flights['dep_delay'] = flights['dep_delay'].fillna(0)  \n",
    "## I Replaced NaN with 0 for easier calculation\n",
    "first_f_delay_over_1_hour = flights.groupby('tailnum')['dep_delay'].apply(lambda x: (x > 60).cumsum().eq(0).sum())\n",
    "\n",
    "print(f\": {first_f_delay_over_1_hour}\")\n"
   ]
  },
  {
   "cell_type": "markdown",
   "id": "426da026",
   "metadata": {},
   "source": [
    "#### 5.By using the flights data find all flights and Flew to Houston (IAH or HOU) and Were operated by American, Delta"
   ]
  },
  {
   "cell_type": "code",
   "execution_count": 23,
   "id": "cc51a1da",
   "metadata": {},
   "outputs": [
    {
     "name": "stdout",
     "output_type": "stream",
     "text": [
      ": Empty DataFrame\n",
      "Columns: [year, month, day, dep_time, sched_dep_time, dep_delay, arr_time, sched_arr_time, arr_delay, carrier, flight, tailnum, origin, dest, air_time, distance, hour, minute, time_hour]\n",
      "Index: []\n"
     ]
    }
   ],
   "source": [
    "filtered_f = flights[(flights['arr_delay'] >= 120) &\n",
    "                           (flights['dest'].isin(['IAH', 'HOU'])) &\n",
    "                           (flights['carrier'].isin(['American', 'Delta']))]\n",
    "\n",
    "print(f\": {filtered_f}\")\n"
   ]
  },
  {
   "cell_type": "markdown",
   "id": "ee406a1f",
   "metadata": {},
   "source": [
    "#### 10.How many values are missing in dep_time?"
   ]
  },
  {
   "cell_type": "code",
   "execution_count": 9,
   "id": "5639d422",
   "metadata": {},
   "outputs": [
    {
     "name": "stdout",
     "output_type": "stream",
     "text": [
      ": 8255\n"
     ]
    }
   ],
   "source": [
    "missing_dep_time_count = flights['dep_time'].isna().sum()\n",
    "print(f\": {missing_dep_time_count}\")\n"
   ]
  },
  {
   "cell_type": "markdown",
   "id": "1c611381",
   "metadata": {},
   "source": [
    "#### 11.Sort flight to find fastest flight."
   ]
  },
  {
   "cell_type": "code",
   "execution_count": 24,
   "id": "c99c1557",
   "metadata": {},
   "outputs": [
    {
     "name": "stdout",
     "output_type": "stream",
     "text": [
      ": year                              2013\n",
      "month                                1\n",
      "day                                 16\n",
      "dep_time                        1355.0\n",
      "sched_dep_time                    1315\n",
      "dep_delay                         40.0\n",
      "arr_time                        1442.0\n",
      "sched_arr_time                    1411\n",
      "arr_delay                         31.0\n",
      "carrier                             EV\n",
      "flight                            4368\n",
      "tailnum                         N16911\n",
      "origin                             EWR\n",
      "dest                               BDL\n",
      "air_time                          20.0\n",
      "distance                           116\n",
      "hour                                13\n",
      "minute                              15\n",
      "time_hour         2013-01-16T18:00:00Z\n",
      "Name: 13524, dtype: object\n"
     ]
    }
   ],
   "source": [
    "fastest_f = flights.loc[flights['air_time'].idxmin()]\n",
    "print(f\": {fastest_f}\")\n"
   ]
  },
  {
   "cell_type": "markdown",
   "id": "06604a48",
   "metadata": {},
   "source": [
    "#### 12.Which flights travelled the shortest?"
   ]
  },
  {
   "cell_type": "code",
   "execution_count": 25,
   "id": "e7ab4e9f",
   "metadata": {},
   "outputs": [
    {
     "name": "stdout",
     "output_type": "stream",
     "text": [
      ": year                              2013\n",
      "month                                7\n",
      "day                                 27\n",
      "dep_time                           NaN\n",
      "sched_dep_time                     106\n",
      "dep_delay                          0.0\n",
      "arr_time                           NaN\n",
      "sched_arr_time                     245\n",
      "arr_delay                          NaN\n",
      "carrier                             US\n",
      "flight                            1632\n",
      "tailnum                            NaN\n",
      "origin                             EWR\n",
      "dest                               LGA\n",
      "air_time                           NaN\n",
      "distance                            17\n",
      "hour                                 1\n",
      "minute                               6\n",
      "time_hour         2013-07-27T05:00:00Z\n",
      "Name: 275945, dtype: object\n"
     ]
    }
   ],
   "source": [
    "shortest_distance_f = flights.loc[flights['distance'].idxmin()]\n",
    "print(f\": {shortest_distance_f}\")\n"
   ]
  },
  {
   "cell_type": "markdown",
   "id": "e8bc3a18",
   "metadata": {},
   "source": [
    "#### 13.Merge flights dataframe with weather dataframe and investigate if weather has any affect on delays"
   ]
  },
  {
   "cell_type": "code",
   "execution_count": 26,
   "id": "51eca631",
   "metadata": {},
   "outputs": [
    {
     "name": "stdout",
     "output_type": "stream",
     "text": [
      ":         year  month  day  dep_time  sched_dep_time  dep_delay  arr_time  \\\n",
      "0       2013      1    1     517.0             515        2.0     830.0   \n",
      "1       2013      1    1     554.0             558       -4.0     740.0   \n",
      "2       2013      1    1     533.0             529        4.0     850.0   \n",
      "3       2013      1    1     542.0             540        2.0     923.0   \n",
      "4       2013      1    1     544.0             545       -1.0    1004.0   \n",
      "...      ...    ...  ...       ...             ...        ...       ...   \n",
      "335215  2013      9   30    2240.0            2245       -5.0    2334.0   \n",
      "335216  2013      9   30    2240.0            2250      -10.0    2347.0   \n",
      "335217  2013      9   30    2241.0            2246       -5.0    2345.0   \n",
      "335218  2013      9   30    2307.0            2255       12.0    2359.0   \n",
      "335219  2013      9   30    2349.0            2359      -10.0     325.0   \n",
      "\n",
      "        sched_arr_time  arr_delay carrier  ...   temp   dewp  humid wind_dir  \\\n",
      "0                  819       11.0      UA  ...  39.02  28.04  64.43    260.0   \n",
      "1                  728       12.0      UA  ...  39.02  28.04  64.43    260.0   \n",
      "2                  830       20.0      UA  ...  39.92  24.98  54.81    250.0   \n",
      "3                  850       33.0      AA  ...  39.02  26.96  61.63    260.0   \n",
      "4                 1022      -18.0      B6  ...  39.02  26.96  61.63    260.0   \n",
      "...                ...        ...     ...  ...    ...    ...    ...      ...   \n",
      "335215            2351      -17.0      B6  ...  60.98  55.94  83.47    230.0   \n",
      "335216               7      -20.0      B6  ...  60.98  55.94  83.47    230.0   \n",
      "335217               1      -16.0      B6  ...  60.98  55.94  83.47    230.0   \n",
      "335218            2358        1.0      B6  ...  60.98  55.94  83.47    230.0   \n",
      "335219             350      -25.0      B6  ...  60.08  55.04  83.41    240.0   \n",
      "\n",
      "        wind_speed  wind_gust  precip  pressure visib           time_hour_y  \n",
      "0         12.65858        NaN     0.0    1011.9  10.0  2013-01-01T10:00:00Z  \n",
      "1         12.65858        NaN     0.0    1011.9  10.0  2013-01-01T10:00:00Z  \n",
      "2         14.96014   21.86482     0.0    1011.4  10.0  2013-01-01T10:00:00Z  \n",
      "3         14.96014        NaN     0.0    1012.1  10.0  2013-01-01T10:00:00Z  \n",
      "4         14.96014        NaN     0.0    1012.1  10.0  2013-01-01T10:00:00Z  \n",
      "...            ...        ...     ...       ...   ...                   ...  \n",
      "335215     9.20624        NaN     0.0    1016.5  10.0  2013-10-01T02:00:00Z  \n",
      "335216     9.20624        NaN     0.0    1016.5  10.0  2013-10-01T02:00:00Z  \n",
      "335217     9.20624        NaN     0.0    1016.5  10.0  2013-10-01T02:00:00Z  \n",
      "335218     9.20624        NaN     0.0    1016.5  10.0  2013-10-01T02:00:00Z  \n",
      "335219     9.20624        NaN     0.0    1016.3  10.0  2013-10-01T03:00:00Z  \n",
      "\n",
      "[335220 rows x 29 columns]\n"
     ]
    }
   ],
   "source": [
    "merged_data_f = flights.merge(weather, on=['year', 'month', 'day', 'hour', 'origin'])\n",
    "print(f\": {merged_data_f}\")\n"
   ]
  },
  {
   "cell_type": "code",
   "execution_count": null,
   "id": "bc6d2ca6",
   "metadata": {},
   "outputs": [],
   "source": []
  }
 ],
 "metadata": {
  "kernelspec": {
   "display_name": "Python 3 (ipykernel)",
   "language": "python",
   "name": "python3"
  },
  "language_info": {
   "codemirror_mode": {
    "name": "ipython",
    "version": 3
   },
   "file_extension": ".py",
   "mimetype": "text/x-python",
   "name": "python",
   "nbconvert_exporter": "python",
   "pygments_lexer": "ipython3",
   "version": "3.11.4"
  }
 },
 "nbformat": 4,
 "nbformat_minor": 5
}
